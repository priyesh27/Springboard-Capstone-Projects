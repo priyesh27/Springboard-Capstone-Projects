{
 "cells": [
  {
   "cell_type": "markdown",
   "metadata": {},
   "source": [
    "KKBOX provides a training data set consists of information of the first observable listening event for each unique user-song pair within a specific time duration. Metadata of each unique user and song pair is also provided. The use of public data to increase the level of accuracy of your prediction is encouraged.\n",
    "\n",
    "The train and the test data are selected from users listening history in a given time period. Note that this time period is chosen to be before the WSDM-KKBox Churn Prediction time period. The train and test sets are split based on time, and the split of public/private are based on unique user/song pairs.\n",
    "\n",
    "Tables train.csv\n",
    "msno: user id\n",
    "song_id: song id\n",
    "source_system_tab: the name of the tab where the event was triggered. System tabs are used to categorize KKBOX mobile apps functions. For example, tab my library contains functions to manipulate the local storage, and tab search contains functions relating to search.\n",
    "source_screen_name: name of the layout a user sees.\n",
    "source_type: an entry point a user first plays music on mobile apps. An entry point could be album, online-playlist, song .. etc.\n",
    "\n",
    "target: this is the target variable. target=1 means there are recurring listening event(s) triggered within a month after the user’s very first observable listening event, target=0 otherwise .\n",
    "\n",
    "\n",
    "test.csv\n",
    "id: row id (will be used for submission)\n",
    "\n",
    "msno: user id\n",
    "song_id: song id\n",
    "source_system_tab: the name of the tab where the event was triggered. System tabs are used to categorize KKBOX mobile apps functions. For example, tab my library contains functions to manipulate the local storage, and tab search contains functions relating to search.\n",
    "source_screen_name: name of the layout a user sees.\n",
    "source_type: an entry point a user first plays music on mobile apps. An entry point could be album, online-playlist, song .. etc.\n",
    "\n",
    "sample_submission.csv\n",
    "sample submission file in the format that we expect you to submit\n",
    "\n",
    "id: same as id in test.csv\n",
    "target: this is the target variable. target=1 means there are recurring listening event(s) triggered within a month after the user’s very first observable listening event, target=0 otherwise .\n",
    "\n",
    "\n",
    "songs.csv\n",
    "The songs. Note that data is in unicode.\n",
    "\n",
    "song_id\n",
    "song_length: in ms\n",
    "genre_ids: genre category. Some songs have multiple genres and they are separated by |\n",
    "artist_name\n",
    "composer\n",
    "lyricist\n",
    "language\n",
    "\n",
    "\n",
    "members.csv\n",
    "user information.\n",
    "\n",
    "msno\n",
    "city\n",
    "bd: age. Note: this column has outlier values, please use your judgement.\n",
    "gender\n",
    "registered_via: registration method\n",
    "registration_init_time: format %Y%m%d\n",
    "expiration_date: format %Y%m%d\n",
    "\n",
    "\n",
    "song_extra_info.csv\n",
    "song_id\n",
    "song name - the name of the song.\n",
    "isrc - International Standard Recording Code, theoretically can be used as an identity of a song. However, what worth to note is, ISRCs generated from providers have not been officially verified; therefore the information in ISRC, such as country code and reference year, can be misleading/incorrect. Multiple songs could share one ISRC since a single recording could be re-published several times."
   ]
  },
  {
   "cell_type": "code",
   "execution_count": 287,
   "metadata": {},
   "outputs": [],
   "source": [
    "#importing libraries\n",
    "import numpy as np\n",
    "import pandas as pd\n",
    "import seaborn as sns\n",
    "from matplotlib import pyplot as plt\n",
    "import missingno as msno\n",
    "%matplotlib inline"
   ]
  },
  {
   "cell_type": "code",
   "execution_count": 288,
   "metadata": {},
   "outputs": [],
   "source": [
    "#data sets\n",
    "train = pd.read_csv('train.csv')\n",
    "test = pd.read_csv('test.csv')\n",
    "songs = pd.read_csv('songs.csv')\n",
    "members= pd.read_csv('members.csv')"
   ]
  },
  {
   "cell_type": "code",
   "execution_count": 289,
   "metadata": {},
   "outputs": [
    {
     "data": {
      "text/html": [
       "<div>\n",
       "<style scoped>\n",
       "    .dataframe tbody tr th:only-of-type {\n",
       "        vertical-align: middle;\n",
       "    }\n",
       "\n",
       "    .dataframe tbody tr th {\n",
       "        vertical-align: top;\n",
       "    }\n",
       "\n",
       "    .dataframe thead th {\n",
       "        text-align: right;\n",
       "    }\n",
       "</style>\n",
       "<table border=\"1\" class=\"dataframe\">\n",
       "  <thead>\n",
       "    <tr style=\"text-align: right;\">\n",
       "      <th></th>\n",
       "      <th>msno</th>\n",
       "      <th>song_id</th>\n",
       "      <th>source_system_tab</th>\n",
       "      <th>source_screen_name</th>\n",
       "      <th>source_type</th>\n",
       "      <th>target</th>\n",
       "    </tr>\n",
       "  </thead>\n",
       "  <tbody>\n",
       "    <tr>\n",
       "      <th>0</th>\n",
       "      <td>FGtllVqz18RPiwJj/edr2gV78zirAiY/9SmYvia+kCg=</td>\n",
       "      <td>BBzumQNXUHKdEBOB7mAJuzok+IJA1c2Ryg/yzTF6tik=</td>\n",
       "      <td>explore</td>\n",
       "      <td>Explore</td>\n",
       "      <td>online-playlist</td>\n",
       "      <td>1</td>\n",
       "    </tr>\n",
       "    <tr>\n",
       "      <th>1</th>\n",
       "      <td>Xumu+NIjS6QYVxDS4/t3SawvJ7viT9hPKXmf0RtLNx8=</td>\n",
       "      <td>bhp/MpSNoqoxOIB+/l8WPqu6jldth4DIpCm3ayXnJqM=</td>\n",
       "      <td>my library</td>\n",
       "      <td>Local playlist more</td>\n",
       "      <td>local-playlist</td>\n",
       "      <td>1</td>\n",
       "    </tr>\n",
       "    <tr>\n",
       "      <th>2</th>\n",
       "      <td>Xumu+NIjS6QYVxDS4/t3SawvJ7viT9hPKXmf0RtLNx8=</td>\n",
       "      <td>JNWfrrC7zNN7BdMpsISKa4Mw+xVJYNnxXh3/Epw7QgY=</td>\n",
       "      <td>my library</td>\n",
       "      <td>Local playlist more</td>\n",
       "      <td>local-playlist</td>\n",
       "      <td>1</td>\n",
       "    </tr>\n",
       "    <tr>\n",
       "      <th>3</th>\n",
       "      <td>Xumu+NIjS6QYVxDS4/t3SawvJ7viT9hPKXmf0RtLNx8=</td>\n",
       "      <td>2A87tzfnJTSWqD7gIZHisolhe4DMdzkbd6LzO1KHjNs=</td>\n",
       "      <td>my library</td>\n",
       "      <td>Local playlist more</td>\n",
       "      <td>local-playlist</td>\n",
       "      <td>1</td>\n",
       "    </tr>\n",
       "    <tr>\n",
       "      <th>4</th>\n",
       "      <td>FGtllVqz18RPiwJj/edr2gV78zirAiY/9SmYvia+kCg=</td>\n",
       "      <td>3qm6XTZ6MOCU11x8FIVbAGH5l5uMkT3/ZalWG1oo2Gc=</td>\n",
       "      <td>explore</td>\n",
       "      <td>Explore</td>\n",
       "      <td>online-playlist</td>\n",
       "      <td>1</td>\n",
       "    </tr>\n",
       "  </tbody>\n",
       "</table>\n",
       "</div>"
      ],
      "text/plain": [
       "                                           msno  \\\n",
       "0  FGtllVqz18RPiwJj/edr2gV78zirAiY/9SmYvia+kCg=   \n",
       "1  Xumu+NIjS6QYVxDS4/t3SawvJ7viT9hPKXmf0RtLNx8=   \n",
       "2  Xumu+NIjS6QYVxDS4/t3SawvJ7viT9hPKXmf0RtLNx8=   \n",
       "3  Xumu+NIjS6QYVxDS4/t3SawvJ7viT9hPKXmf0RtLNx8=   \n",
       "4  FGtllVqz18RPiwJj/edr2gV78zirAiY/9SmYvia+kCg=   \n",
       "\n",
       "                                        song_id source_system_tab  \\\n",
       "0  BBzumQNXUHKdEBOB7mAJuzok+IJA1c2Ryg/yzTF6tik=           explore   \n",
       "1  bhp/MpSNoqoxOIB+/l8WPqu6jldth4DIpCm3ayXnJqM=        my library   \n",
       "2  JNWfrrC7zNN7BdMpsISKa4Mw+xVJYNnxXh3/Epw7QgY=        my library   \n",
       "3  2A87tzfnJTSWqD7gIZHisolhe4DMdzkbd6LzO1KHjNs=        my library   \n",
       "4  3qm6XTZ6MOCU11x8FIVbAGH5l5uMkT3/ZalWG1oo2Gc=           explore   \n",
       "\n",
       "    source_screen_name      source_type  target  \n",
       "0              Explore  online-playlist       1  \n",
       "1  Local playlist more   local-playlist       1  \n",
       "2  Local playlist more   local-playlist       1  \n",
       "3  Local playlist more   local-playlist       1  \n",
       "4              Explore  online-playlist       1  "
      ]
     },
     "execution_count": 289,
     "metadata": {},
     "output_type": "execute_result"
    }
   ],
   "source": [
    "train.head()"
   ]
  },
  {
   "cell_type": "code",
   "execution_count": 290,
   "metadata": {},
   "outputs": [
    {
     "data": {
      "text/html": [
       "<div>\n",
       "<style scoped>\n",
       "    .dataframe tbody tr th:only-of-type {\n",
       "        vertical-align: middle;\n",
       "    }\n",
       "\n",
       "    .dataframe tbody tr th {\n",
       "        vertical-align: top;\n",
       "    }\n",
       "\n",
       "    .dataframe thead th {\n",
       "        text-align: right;\n",
       "    }\n",
       "</style>\n",
       "<table border=\"1\" class=\"dataframe\">\n",
       "  <thead>\n",
       "    <tr style=\"text-align: right;\">\n",
       "      <th></th>\n",
       "      <th>song_id</th>\n",
       "      <th>song_length</th>\n",
       "      <th>genre_ids</th>\n",
       "      <th>artist_name</th>\n",
       "      <th>composer</th>\n",
       "      <th>lyricist</th>\n",
       "      <th>language</th>\n",
       "    </tr>\n",
       "  </thead>\n",
       "  <tbody>\n",
       "    <tr>\n",
       "      <th>0</th>\n",
       "      <td>CXoTN1eb7AI+DntdU1vbcwGRV4SCIDxZu+YD8JP8r4E=</td>\n",
       "      <td>247640</td>\n",
       "      <td>465</td>\n",
       "      <td>張信哲 (Jeff Chang)</td>\n",
       "      <td>董貞</td>\n",
       "      <td>何啟弘</td>\n",
       "      <td>3</td>\n",
       "    </tr>\n",
       "    <tr>\n",
       "      <th>1</th>\n",
       "      <td>o0kFgae9QtnYgRkVPqLJwa05zIhRlUjfF7O1tDw0ZDU=</td>\n",
       "      <td>197328</td>\n",
       "      <td>444</td>\n",
       "      <td>BLACKPINK</td>\n",
       "      <td>TEDDY|  FUTURE BOUNCE|  Bekuh BOOM</td>\n",
       "      <td>TEDDY</td>\n",
       "      <td>31</td>\n",
       "    </tr>\n",
       "    <tr>\n",
       "      <th>2</th>\n",
       "      <td>DwVvVurfpuz+XPuFvucclVQEyPqcpUkHR0ne1RQzPs0=</td>\n",
       "      <td>231781</td>\n",
       "      <td>465</td>\n",
       "      <td>SUPER JUNIOR</td>\n",
       "      <td>NaN</td>\n",
       "      <td>NaN</td>\n",
       "      <td>31</td>\n",
       "    </tr>\n",
       "    <tr>\n",
       "      <th>3</th>\n",
       "      <td>dKMBWoZyScdxSkihKG+Vf47nc18N9q4m58+b4e7dSSE=</td>\n",
       "      <td>273554</td>\n",
       "      <td>465</td>\n",
       "      <td>S.H.E</td>\n",
       "      <td>湯小康</td>\n",
       "      <td>徐世珍</td>\n",
       "      <td>3</td>\n",
       "    </tr>\n",
       "    <tr>\n",
       "      <th>4</th>\n",
       "      <td>W3bqWd3T+VeHFzHAUfARgW9AvVRaF4N5Yzm4Mr6Eo/o=</td>\n",
       "      <td>140329</td>\n",
       "      <td>726</td>\n",
       "      <td>貴族精選</td>\n",
       "      <td>Traditional</td>\n",
       "      <td>Traditional</td>\n",
       "      <td>52</td>\n",
       "    </tr>\n",
       "  </tbody>\n",
       "</table>\n",
       "</div>"
      ],
      "text/plain": [
       "                                        song_id  song_length genre_ids  \\\n",
       "0  CXoTN1eb7AI+DntdU1vbcwGRV4SCIDxZu+YD8JP8r4E=       247640       465   \n",
       "1  o0kFgae9QtnYgRkVPqLJwa05zIhRlUjfF7O1tDw0ZDU=       197328       444   \n",
       "2  DwVvVurfpuz+XPuFvucclVQEyPqcpUkHR0ne1RQzPs0=       231781       465   \n",
       "3  dKMBWoZyScdxSkihKG+Vf47nc18N9q4m58+b4e7dSSE=       273554       465   \n",
       "4  W3bqWd3T+VeHFzHAUfARgW9AvVRaF4N5Yzm4Mr6Eo/o=       140329       726   \n",
       "\n",
       "        artist_name                            composer     lyricist  language  \n",
       "0  張信哲 (Jeff Chang)                                  董貞          何啟弘         3  \n",
       "1         BLACKPINK  TEDDY|  FUTURE BOUNCE|  Bekuh BOOM        TEDDY        31  \n",
       "2      SUPER JUNIOR                                 NaN          NaN        31  \n",
       "3             S.H.E                                 湯小康          徐世珍         3  \n",
       "4              貴族精選                         Traditional  Traditional        52  "
      ]
     },
     "execution_count": 290,
     "metadata": {},
     "output_type": "execute_result"
    }
   ],
   "source": [
    "songs.head()"
   ]
  },
  {
   "cell_type": "code",
   "execution_count": 291,
   "metadata": {},
   "outputs": [
    {
     "data": {
      "text/html": [
       "<div>\n",
       "<style scoped>\n",
       "    .dataframe tbody tr th:only-of-type {\n",
       "        vertical-align: middle;\n",
       "    }\n",
       "\n",
       "    .dataframe tbody tr th {\n",
       "        vertical-align: top;\n",
       "    }\n",
       "\n",
       "    .dataframe thead th {\n",
       "        text-align: right;\n",
       "    }\n",
       "</style>\n",
       "<table border=\"1\" class=\"dataframe\">\n",
       "  <thead>\n",
       "    <tr style=\"text-align: right;\">\n",
       "      <th></th>\n",
       "      <th>msno</th>\n",
       "      <th>city</th>\n",
       "      <th>bd</th>\n",
       "      <th>gender</th>\n",
       "      <th>registered_via</th>\n",
       "      <th>registration_init_time</th>\n",
       "      <th>expiration_date</th>\n",
       "    </tr>\n",
       "  </thead>\n",
       "  <tbody>\n",
       "    <tr>\n",
       "      <th>0</th>\n",
       "      <td>XQxgAYj3klVKjR3oxPPXYYFp4soD4TuBghkhMTD4oTw=</td>\n",
       "      <td>1</td>\n",
       "      <td>0</td>\n",
       "      <td>NaN</td>\n",
       "      <td>7</td>\n",
       "      <td>20110820</td>\n",
       "      <td>20170920</td>\n",
       "    </tr>\n",
       "    <tr>\n",
       "      <th>1</th>\n",
       "      <td>UizsfmJb9mV54qE9hCYyU07Va97c0lCRLEQX3ae+ztM=</td>\n",
       "      <td>1</td>\n",
       "      <td>0</td>\n",
       "      <td>NaN</td>\n",
       "      <td>7</td>\n",
       "      <td>20150628</td>\n",
       "      <td>20170622</td>\n",
       "    </tr>\n",
       "    <tr>\n",
       "      <th>2</th>\n",
       "      <td>D8nEhsIOBSoE6VthTaqDX8U6lqjJ7dLdr72mOyLya2A=</td>\n",
       "      <td>1</td>\n",
       "      <td>0</td>\n",
       "      <td>NaN</td>\n",
       "      <td>4</td>\n",
       "      <td>20160411</td>\n",
       "      <td>20170712</td>\n",
       "    </tr>\n",
       "    <tr>\n",
       "      <th>3</th>\n",
       "      <td>mCuD+tZ1hERA/o5GPqk38e041J8ZsBaLcu7nGoIIvhI=</td>\n",
       "      <td>1</td>\n",
       "      <td>0</td>\n",
       "      <td>NaN</td>\n",
       "      <td>9</td>\n",
       "      <td>20150906</td>\n",
       "      <td>20150907</td>\n",
       "    </tr>\n",
       "    <tr>\n",
       "      <th>4</th>\n",
       "      <td>q4HRBfVSssAFS9iRfxWrohxuk9kCYMKjHOEagUMV6rQ=</td>\n",
       "      <td>1</td>\n",
       "      <td>0</td>\n",
       "      <td>NaN</td>\n",
       "      <td>4</td>\n",
       "      <td>20170126</td>\n",
       "      <td>20170613</td>\n",
       "    </tr>\n",
       "  </tbody>\n",
       "</table>\n",
       "</div>"
      ],
      "text/plain": [
       "                                           msno  city  bd gender  \\\n",
       "0  XQxgAYj3klVKjR3oxPPXYYFp4soD4TuBghkhMTD4oTw=     1   0    NaN   \n",
       "1  UizsfmJb9mV54qE9hCYyU07Va97c0lCRLEQX3ae+ztM=     1   0    NaN   \n",
       "2  D8nEhsIOBSoE6VthTaqDX8U6lqjJ7dLdr72mOyLya2A=     1   0    NaN   \n",
       "3  mCuD+tZ1hERA/o5GPqk38e041J8ZsBaLcu7nGoIIvhI=     1   0    NaN   \n",
       "4  q4HRBfVSssAFS9iRfxWrohxuk9kCYMKjHOEagUMV6rQ=     1   0    NaN   \n",
       "\n",
       "   registered_via  registration_init_time  expiration_date  \n",
       "0               7                20110820         20170920  \n",
       "1               7                20150628         20170622  \n",
       "2               4                20160411         20170712  \n",
       "3               9                20150906         20150907  \n",
       "4               4                20170126         20170613  "
      ]
     },
     "execution_count": 291,
     "metadata": {},
     "output_type": "execute_result"
    }
   ],
   "source": [
    "members.head()"
   ]
  },
  {
   "cell_type": "code",
   "execution_count": 292,
   "metadata": {},
   "outputs": [
    {
     "name": "stdout",
     "output_type": "stream",
     "text": [
      "<class 'pandas.core.frame.DataFrame'>\n",
      "RangeIndex: 19999 entries, 0 to 19998\n",
      "Data columns (total 6 columns):\n",
      "msno                  19999 non-null object\n",
      "song_id               19999 non-null object\n",
      "source_system_tab     19932 non-null object\n",
      "source_screen_name    19423 non-null object\n",
      "source_type           19949 non-null object\n",
      "target                19999 non-null int64\n",
      "dtypes: int64(1), object(5)\n",
      "memory usage: 937.5+ KB\n"
     ]
    }
   ],
   "source": [
    "train.info()"
   ]
  },
  {
   "cell_type": "code",
   "execution_count": 293,
   "metadata": {},
   "outputs": [
    {
     "name": "stdout",
     "output_type": "stream",
     "text": [
      "<class 'pandas.core.frame.DataFrame'>\n",
      "RangeIndex: 39999 entries, 0 to 39998\n",
      "Data columns (total 7 columns):\n",
      "song_id        39999 non-null object\n",
      "song_length    39999 non-null int64\n",
      "genre_ids      39282 non-null object\n",
      "artist_name    39999 non-null object\n",
      "composer       23203 non-null object\n",
      "lyricist       10913 non-null object\n",
      "language       39999 non-null int64\n",
      "dtypes: int64(2), object(5)\n",
      "memory usage: 2.1+ MB\n"
     ]
    }
   ],
   "source": [
    "songs.info()"
   ]
  },
  {
   "cell_type": "code",
   "execution_count": 294,
   "metadata": {},
   "outputs": [
    {
     "name": "stdout",
     "output_type": "stream",
     "text": [
      "<class 'pandas.core.frame.DataFrame'>\n",
      "RangeIndex: 34403 entries, 0 to 34402\n",
      "Data columns (total 7 columns):\n",
      "msno                      34403 non-null object\n",
      "city                      34403 non-null int64\n",
      "bd                        34403 non-null int64\n",
      "gender                    14501 non-null object\n",
      "registered_via            34403 non-null int64\n",
      "registration_init_time    34403 non-null int64\n",
      "expiration_date           34403 non-null int64\n",
      "dtypes: int64(5), object(2)\n",
      "memory usage: 1.8+ MB\n"
     ]
    }
   ],
   "source": [
    "members.info()"
   ]
  },
  {
   "cell_type": "code",
   "execution_count": null,
   "metadata": {},
   "outputs": [],
   "source": [
    "import seaborn as sns\n",
    "plt.figure(figsize=(8,6))\n",
    "ax= sns.countplot(x='source_type', data=train)\n",
    "ax.set_xticklabels(ax.get_xticklabels(), rotation=40, ha='right')\n",
    "plt.tight_layout()\n",
    "plt.show()"
   ]
  },
  {
   "cell_type": "code",
   "execution_count": 296,
   "metadata": {},
   "outputs": [
    {
     "data": {
      "image/png": "[encoded data removed]",
      "text/plain": [
       "<Figure size 576x432 with 1 Axes>"
      ]
     },
     "metadata": {
      "needs_background": "light"
     },
     "output_type": "display_data"
    }
   ],
   "source": [
    "import seaborn as sns\n",
    "plt.figure(figsize=(8,6))\n",
    "ax= sns.countplot(x='source_system_tab', data=train)\n",
    "ax.set_xticklabels(ax.get_xticklabels(), rotation=40, ha='left')\n",
    "plt.tight_layout()\n",
    "plt.show()"
   ]
  },
  {
   "cell_type": "code",
   "execution_count": null,
   "metadata": {},
   "outputs": [],
   "source": [
    "plt.figure(figsize=(8,6))\n",
    "ax=sns.countplot(y=train['source_screen_name'],data=train, facecolor=(0,0,0,0), linewidth =5,\n",
    "                edgecolor= sns.color_palette('dark',3))\n",
    "plt.show()"
   ]
  },
  {
   "cell_type": "code",
   "execution_count": 298,
   "metadata": {},
   "outputs": [
    {
     "data": {
      "image/png": "[encoded data removed]",
      "text/plain": [
       "<Figure size 576x576 with 1 Axes>"
      ]
     },
     "metadata": {},
     "output_type": "display_data"
    }
   ],
   "source": [
    "plt.figure(figsize=(8,8))\n",
    "pp= pd.value_counts(members.gender)\n",
    "pp.plot.pie(startangle=90, autopct='%1.1f%%', shadow= False, explode= (0.05,0.05))\n",
    "plt.axis('equal')\n",
    "plt.show()"
   ]
  },
  {
   "cell_type": "code",
   "execution_count": 299,
   "metadata": {},
   "outputs": [
    {
     "name": "stdout",
     "output_type": "stream",
     "text": [
      "                                           msno  \\\n",
      "0  FGtllVqz18RPiwJj/edr2gV78zirAiY/9SmYvia+kCg=   \n",
      "1  FGtllVqz18RPiwJj/edr2gV78zirAiY/9SmYvia+kCg=   \n",
      "2  FGtllVqz18RPiwJj/edr2gV78zirAiY/9SmYvia+kCg=   \n",
      "3  hZyOA+0yqClPLt6uIEndf8fG8szH/95eKMbaxLE5z30=   \n",
      "4  FGtllVqz18RPiwJj/edr2gV78zirAiY/9SmYvia+kCg=   \n",
      "\n",
      "                                        song_id source_system_tab  \\\n",
      "0  BBzumQNXUHKdEBOB7mAJuzok+IJA1c2Ryg/yzTF6tik=           explore   \n",
      "1  3qm6XTZ6MOCU11x8FIVbAGH5l5uMkT3/ZalWG1oo2Gc=           explore   \n",
      "2  3Hg5kugV1S0wzEVLAEfqjIV5UHzb7bCrdBRQlGygLvU=           explore   \n",
      "3  3Hg5kugV1S0wzEVLAEfqjIV5UHzb7bCrdBRQlGygLvU=          discover   \n",
      "4  bPIvRTzfHxH5LgHrStll+tYwSQNVV8PySgA3M1PfTgc=           explore   \n",
      "\n",
      "  source_screen_name      source_type  target  city    bd gender  \\\n",
      "0            Explore  online-playlist     1.0   1.0   0.0    NaN   \n",
      "1            Explore  online-playlist     1.0   1.0   0.0    NaN   \n",
      "2            Explore  online-playlist     1.0   1.0   0.0    NaN   \n",
      "3     Discover Genre  online-playlist     1.0   6.0  32.0   male   \n",
      "4            Explore  online-playlist     1.0   1.0   0.0    NaN   \n",
      "\n",
      "   registered_via  registration_init_time  expiration_date  song_length  \\\n",
      "0             7.0              20120102.0       20171005.0          NaN   \n",
      "1             7.0              20120102.0       20171005.0          NaN   \n",
      "2             7.0              20120102.0       20171005.0     247803.0   \n",
      "3             9.0              20160804.0       20171007.0     247803.0   \n",
      "4             7.0              20120102.0       20171005.0          NaN   \n",
      "\n",
      "  genre_ids artist_name                  composer lyricist  language  \n",
      "0       NaN         NaN                       NaN      NaN       NaN  \n",
      "1       NaN         NaN                       NaN      NaN       NaN  \n",
      "2      1259   Desiigner  Sidney Selby| Adnan Khan      NaN      52.0  \n",
      "3      1259   Desiigner  Sidney Selby| Adnan Khan      NaN      52.0  \n",
      "4       NaN         NaN                       NaN      NaN       NaN  \n",
      "18\n",
      "\n",
      "\n",
      "       id                                          msno  \\\n",
      "0     0.0  V8ruy7SGk7tDm3zA51DPpn6qutt+vmKMBKa21dp54uM=   \n",
      "1  2954.0  mp5bRgC7VAhEpWlAiOn4jG8CD9FJZt7725f93t5i99M=   \n",
      "2     1.0  V8ruy7SGk7tDm3zA51DPpn6qutt+vmKMBKa21dp54uM=   \n",
      "3   633.0  JXkYMYNrobJ3hctOnaKNM7NbhgmyxEWJZTBD4yehfCU=   \n",
      "4  1745.0  yyDmZtawawvo2eqiFUlQbvmvHied65Ye+6KsMEpmoho=   \n",
      "\n",
      "                                        song_id source_system_tab  \\\n",
      "0  WmHKgKMlp1lQMecNdNvDMkvIycZYHnFwDT72I5sIssc=        my library   \n",
      "1  WmHKgKMlp1lQMecNdNvDMkvIycZYHnFwDT72I5sIssc=        my library   \n",
      "2  y/rsZ9DC7FwK5F2PK2D5mj+aOBUJAjuu3dZ14NgE0vM=        my library   \n",
      "3  y/rsZ9DC7FwK5F2PK2D5mj+aOBUJAjuu3dZ14NgE0vM=        my library   \n",
      "4  y/rsZ9DC7FwK5F2PK2D5mj+aOBUJAjuu3dZ14NgE0vM=        my library   \n",
      "\n",
      "    source_screen_name          source_type  city    bd  gender  \\\n",
      "0  Local playlist more        local-library   1.0   0.0     NaN   \n",
      "1               Search                 song   1.0   0.0     NaN   \n",
      "2  Local playlist more        local-library   1.0   0.0     NaN   \n",
      "3  Local playlist more        local-library  13.0  21.0  female   \n",
      "4          Artist more  top-hits-for-artist   6.0  30.0  female   \n",
      "\n",
      "   registered_via  registration_init_time  expiration_date  song_length  \\\n",
      "0             7.0              20160219.0       20170918.0          NaN   \n",
      "1             7.0              20161010.0       20170909.0          NaN   \n",
      "2             7.0              20160219.0       20170918.0     320470.0   \n",
      "3             3.0              20140927.0       20180723.0     320470.0   \n",
      "4             9.0              20051209.0       20170912.0     320470.0   \n",
      "\n",
      "  genre_ids   artist_name composer lyricist  language  \n",
      "0       NaN           NaN      NaN      NaN       NaN  \n",
      "1       NaN           NaN      NaN      NaN       NaN  \n",
      "2       465  林俊傑 (JJ Lin)      林俊傑  孫燕姿/易家揚       3.0  \n",
      "3       465  林俊傑 (JJ Lin)      林俊傑  孫燕姿/易家揚       3.0  \n",
      "4       465  林俊傑 (JJ Lin)      林俊傑  孫燕姿/易家揚       3.0  \n",
      "18\n"
     ]
    }
   ],
   "source": [
    "#merging datasets\n",
    "#train set\n",
    "train_members = pd.merge(train, members, on='msno', how='inner')\n",
    "train_merged= pd.merge(train_members, songs, on='song_id', how='outer')\n",
    "print(train_merged.head())\n",
    "print(len(train_merged.columns))\n",
    "print('\\n')\n",
    "\n",
    "#test set\n",
    "test_members = pd.merge(test, members, on='msno', how='inner')\n",
    "test_merged= pd.merge(test_members, songs, on='song_id', how='outer')\n",
    "print(test_merged.head())\n",
    "print(len(test_merged.columns))"
   ]
  },
  {
   "cell_type": "code",
   "execution_count": 300,
   "metadata": {},
   "outputs": [
    {
     "name": "stdout",
     "output_type": "stream",
     "text": [
      "{dtype('float64'): Index(['target', 'city', 'bd', 'registered_via', 'registration_init_time',\n",
      "       'expiration_date', 'song_length', 'language'],\n",
      "      dtype='object'), dtype('O'): Index(['msno', 'song_id', 'source_system_tab', 'source_screen_name',\n",
      "       'source_type', 'gender', 'genre_ids', 'artist_name', 'composer',\n",
      "       'lyricist'],\n",
      "      dtype='object')}\n"
     ]
    }
   ],
   "source": [
    "print(train_merged.columns.to_series().groupby(train_merged.dtypes).groups)"
   ]
  },
  {
   "cell_type": "code",
   "execution_count": 301,
   "metadata": {},
   "outputs": [
    {
     "name": "stdout",
     "output_type": "stream",
     "text": [
      "{dtype('float64'): Index(['id', 'city', 'bd', 'registered_via', 'registration_init_time',\n",
      "       'expiration_date', 'song_length', 'language'],\n",
      "      dtype='object'), dtype('O'): Index(['msno', 'song_id', 'source_system_tab', 'source_screen_name',\n",
      "       'source_type', 'gender', 'genre_ids', 'artist_name', 'composer',\n",
      "       'lyricist'],\n",
      "      dtype='object')}\n"
     ]
    }
   ],
   "source": [
    "print(test_merged.columns.to_series().groupby(test_merged.dtypes).groups)"
   ]
  },
  {
   "cell_type": "code",
   "execution_count": 302,
   "metadata": {},
   "outputs": [
    {
     "name": "stdout",
     "output_type": "stream",
     "text": [
      "True\n",
      "['msno', 'source_system_tab', 'source_screen_name', 'source_type', 'target', 'city', 'bd', 'gender', 'registered_via', 'registration_init_time', 'expiration_date', 'song_length', 'genre_ids', 'artist_name', 'composer', 'lyricist', 'language']\n",
      "msno : 38665\n",
      "source_system_tab : 38732\n",
      "source_screen_name : 39241\n",
      "source_type : 38715\n",
      "target : 38665\n",
      "city : 38665\n",
      "bd : 38665\n",
      "gender : 46377\n",
      "registered_via : 38665\n",
      "registration_init_time : 38665\n",
      "expiration_date : 38665\n",
      "song_length : 17154\n",
      "genre_ids : 17895\n",
      "artist_name : 17154\n",
      "composer : 34148\n",
      "lyricist : 46653\n",
      "language : 17154\n"
     ]
    }
   ],
   "source": [
    "#Function to check if missing values are present\n",
    "def check_missing_values(df):\n",
    "    print(df.isnull().values.any())\n",
    "    if (df.isnull().values.any()== True):\n",
    "        columns_with_Nan = df.columns[df.isnull().any()].tolist()\n",
    "        print(columns_with_Nan)\n",
    "        for col in columns_with_Nan:\n",
    "            print('%s : %d' %(col,df[col].isnull().sum()))\n",
    "\n",
    "check_missing_values(train_merged)"
   ]
  },
  {
   "cell_type": "code",
   "execution_count": 303,
   "metadata": {},
   "outputs": [
    {
     "name": "stdout",
     "output_type": "stream",
     "text": [
      "True\n",
      "['id', 'msno', 'source_system_tab', 'source_screen_name', 'source_type', 'city', 'bd', 'gender', 'registered_via', 'registration_init_time', 'expiration_date', 'song_length', 'genre_ids', 'artist_name', 'composer', 'lyricist', 'language']\n",
      "id : 39524\n",
      "msno : 39524\n",
      "source_system_tab : 39527\n",
      "source_screen_name : 39742\n",
      "source_type : 39526\n",
      "city : 39524\n",
      "bd : 39524\n",
      "gender : 41665\n",
      "registered_via : 39524\n",
      "registration_init_time : 39524\n",
      "expiration_date : 39524\n",
      "song_length : 4298\n",
      "genre_ids : 5017\n",
      "artist_name : 4298\n",
      "composer : 21113\n",
      "lyricist : 33461\n",
      "language : 4298\n"
     ]
    }
   ],
   "source": [
    "check_missing_values(test_merged)"
   ]
  },
  {
   "cell_type": "code",
   "execution_count": 304,
   "metadata": {},
   "outputs": [],
   "source": [
    "#MIssing values\n",
    "#Replace float values with -5\n",
    "def replace_Nan_non_object(df):\n",
    "    object_cols=list(df.select_dtypes(include=['float']).columns)\n",
    "    for col in object_cols:\n",
    "        df[col]=df[col].fillna(np.int(-5))\n",
    "\n",
    "replace_Nan_non_object(train_merged)\n",
    "replace_Nan_non_object(test_merged)"
   ]
  },
  {
   "cell_type": "code",
   "execution_count": 305,
   "metadata": {},
   "outputs": [
    {
     "name": "stdout",
     "output_type": "stream",
     "text": [
      "['msno', 'song_id', 'source_system_tab', 'source_screen_name', 'source_type', 'gender', 'genre_ids', 'artist_name', 'composer', 'lyricist']\n",
      "['msno', 'song_id', 'source_system_tab', 'source_screen_name', 'source_type', 'gender', 'genre_ids', 'artist_name', 'composer', 'lyricist']\n"
     ]
    }
   ],
   "source": [
    "#Missing values of object type\n",
    "\n",
    "def replace_Nan_object(df):\n",
    "    object_cols=list(df.select_dtypes(include=['object']).columns)\n",
    "    for col in object_cols:\n",
    "        df[col]=df[col].fillna(' ')\n",
    "    print(object_cols)\n",
    "\n",
    "replace_Nan_object(train_merged)\n",
    "replace_Nan_object(test_merged)"
   ]
  },
  {
   "cell_type": "code",
   "execution_count": 306,
   "metadata": {},
   "outputs": [
    {
     "data": {
      "image/png": "[encoded data removed]",
      "text/plain": [
       "<Figure size 1080x576 with 1 Axes>"
      ]
     },
     "metadata": {
      "needs_background": "light"
     },
     "output_type": "display_data"
    }
   ],
   "source": [
    "data = train_merged.groupby('target').aggregate({'msno':'count'}).reset_index()\n",
    "a4_dims=(15,8)\n",
    "fig,ax=plt.subplots(figsize=a4_dims)\n",
    "ax= sns.barplot(x='target',y='msno',data=data)"
   ]
  },
  {
   "cell_type": "code",
   "execution_count": 307,
   "metadata": {},
   "outputs": [
    {
     "data": {
      "text/plain": [
       "19999"
      ]
     },
     "execution_count": 307,
     "metadata": {},
     "output_type": "execute_result"
    }
   ],
   "source": [
    "train_merged= train_merged[train_merged.target != -5]\n",
    "len(train_merged.index)"
   ]
  },
  {
   "cell_type": "code",
   "execution_count": 308,
   "metadata": {},
   "outputs": [
    {
     "data": {
      "image/png": "[encoded data removed]",
      "text/plain": [
       "<Figure size 1080x576 with 1 Axes>"
      ]
     },
     "metadata": {
      "needs_background": "light"
     },
     "output_type": "display_data"
    }
   ],
   "source": [
    "data = train_merged.groupby('target').aggregate({'msno':'count'}).reset_index()\n",
    "a4_dims=(15,8)\n",
    "fig,ax=plt.subplots(figsize=a4_dims)\n",
    "ax= sns.barplot(x='target',y='msno',data=data)"
   ]
  },
  {
   "cell_type": "code",
   "execution_count": 309,
   "metadata": {},
   "outputs": [
    {
     "data": {
      "text/plain": [
       "[Text(0, 0, '-5.0'),\n",
       " Text(0, 0, '-1.0'),\n",
       " Text(0, 0, '3.0'),\n",
       " Text(0, 0, '10.0'),\n",
       " Text(0, 0, '17.0'),\n",
       " Text(0, 0, '24.0'),\n",
       " Text(0, 0, '31.0'),\n",
       " Text(0, 0, '52.0'),\n",
       " Text(0, 0, '59.0')]"
      ]
     },
     "execution_count": 309,
     "metadata": {},
     "output_type": "execute_result"
    },
    {
     "data": {
      "image/png": "[encoded data removed]",
      "text/plain": [
       "<Figure size 1080x504 with 1 Axes>"
      ]
     },
     "metadata": {
      "needs_background": "light"
     },
     "output_type": "display_data"
    }
   ],
   "source": [
    "data = train_merged.groupby('language').aggregate({'msno':'count'}).reset_index()\n",
    "a4_dims=(15,7)\n",
    "fig, ax= plt.subplots(figsize=a4_dims)\n",
    "ax= sns.barplot(x='language', y='msno', data= data)\n",
    "ax.set_xticklabels(ax.get_xticklabels(), rotation=90)"
   ]
  },
  {
   "cell_type": "code",
   "execution_count": 310,
   "metadata": {},
   "outputs": [
    {
     "data": {
      "text/plain": [
       "[Text(0, 0, '1.0'),\n",
       " Text(0, 0, '3.0'),\n",
       " Text(0, 0, '4.0'),\n",
       " Text(0, 0, '5.0'),\n",
       " Text(0, 0, '6.0'),\n",
       " Text(0, 0, '7.0'),\n",
       " Text(0, 0, '8.0'),\n",
       " Text(0, 0, '9.0'),\n",
       " Text(0, 0, '10.0'),\n",
       " Text(0, 0, '11.0'),\n",
       " Text(0, 0, '12.0'),\n",
       " Text(0, 0, '13.0'),\n",
       " Text(0, 0, '14.0'),\n",
       " Text(0, 0, '15.0'),\n",
       " Text(0, 0, '16.0'),\n",
       " Text(0, 0, '17.0'),\n",
       " Text(0, 0, '18.0'),\n",
       " Text(0, 0, '20.0'),\n",
       " Text(0, 0, '21.0'),\n",
       " Text(0, 0, '22.0')]"
      ]
     },
     "execution_count": 310,
     "metadata": {},
     "output_type": "execute_result"
    },
    {
     "data": {
      "image/png": "[encoded data removed]",
      "text/plain": [
       "<Figure size 1080x504 with 1 Axes>"
      ]
     },
     "metadata": {
      "needs_background": "light"
     },
     "output_type": "display_data"
    }
   ],
   "source": [
    "data = train_merged.groupby('city').aggregate({'msno':'count'}).reset_index()\n",
    "a4_dims=(15,7)\n",
    "fig, ax= plt.subplots(figsize=a4_dims)\n",
    "ax= sns.barplot(x='city', y='msno', data= data)\n",
    "ax.set_xticklabels(ax.get_xticklabels(), rotation=90)"
   ]
  },
  {
   "cell_type": "code",
   "execution_count": 311,
   "metadata": {},
   "outputs": [],
   "source": [
    "# model building starts here\n",
    "\n",
    "import warnings\n",
    "warnings.filterwarnings('ignore')\n"
   ]
  },
  {
   "cell_type": "code",
   "execution_count": 312,
   "metadata": {},
   "outputs": [],
   "source": [
    "#load dataset\n",
    "df= pd.read_csv('train.csv')\n",
    "df = df.sample(frac= 0.1)\n",
    "songs = pd.read_csv('songs.csv')\n",
    "members= pd.read_csv('members.csv')\n"
   ]
  },
  {
   "cell_type": "code",
   "execution_count": 313,
   "metadata": {},
   "outputs": [],
   "source": [
    "#merge datasets\n",
    "df= pd.merge(df, songs, on='song_id', how='left')\n",
    "df = pd.merge(df, members, on='msno', how='left')\n",
    "\n",
    "del songs\n",
    "del members"
   ]
  },
  {
   "cell_type": "code",
   "execution_count": 314,
   "metadata": {},
   "outputs": [
    {
     "name": "stdout",
     "output_type": "stream",
     "text": [
      "<class 'pandas.core.frame.DataFrame'>\n",
      "Int64Index: 2000 entries, 0 to 1999\n",
      "Data columns (total 18 columns):\n",
      "msno                      2000 non-null object\n",
      "song_id                   2000 non-null object\n",
      "source_system_tab         1995 non-null object\n",
      "source_screen_name        1954 non-null object\n",
      "source_type               1996 non-null object\n",
      "target                    2000 non-null int64\n",
      "song_length               288 non-null float64\n",
      "genre_ids                 286 non-null object\n",
      "artist_name               288 non-null object\n",
      "composer                  234 non-null object\n",
      "lyricist                  180 non-null object\n",
      "language                  288 non-null float64\n",
      "city                      2000 non-null int64\n",
      "bd                        2000 non-null int64\n",
      "gender                    1212 non-null object\n",
      "registered_via            2000 non-null int64\n",
      "registration_init_time    2000 non-null int64\n",
      "expiration_date           2000 non-null int64\n",
      "dtypes: float64(2), int64(6), object(10)\n",
      "memory usage: 296.9+ KB\n"
     ]
    }
   ],
   "source": [
    "df.info()"
   ]
  },
  {
   "cell_type": "code",
   "execution_count": 315,
   "metadata": {},
   "outputs": [
    {
     "data": {
      "text/plain": [
       "msno                       0.00\n",
       "song_id                    0.00\n",
       "source_system_tab          0.25\n",
       "source_screen_name         2.30\n",
       "source_type                0.20\n",
       "target                     0.00\n",
       "song_length               85.60\n",
       "genre_ids                 85.70\n",
       "artist_name               85.60\n",
       "composer                  88.30\n",
       "lyricist                  91.00\n",
       "language                  85.60\n",
       "city                       0.00\n",
       "bd                         0.00\n",
       "gender                    39.40\n",
       "registered_via             0.00\n",
       "registration_init_time     0.00\n",
       "expiration_date            0.00\n",
       "dtype: float64"
      ]
     },
     "execution_count": 315,
     "metadata": {},
     "output_type": "execute_result"
    }
   ],
   "source": [
    "df.isnull().sum()/df.isnull().count()*100"
   ]
  },
  {
   "cell_type": "code",
   "execution_count": 316,
   "metadata": {},
   "outputs": [],
   "source": [
    "#Replace missing values\n",
    "for i in df.select_dtypes(include=['object']).columns:\n",
    "    df[i][df[i].isnull()]='unknown'\n",
    "df= df.fillna(value=0)"
   ]
  },
  {
   "cell_type": "code",
   "execution_count": 317,
   "metadata": {},
   "outputs": [],
   "source": [
    "#create dates\n",
    "# registration time\n",
    "df.registration_init_time = pd.to_datetime(df.registration_init_time, format='%Y%m%d', errors='ignore')\n",
    "df['registration_init_time_year'] = df['registration_init_time'].dt.year\n",
    "df['registration_init_time_month'] = df['registration_init_time'].dt.month\n",
    "df['registration_init_time_day'] = df['registration_init_time'].dt.day\n",
    "\n",
    "# expiration date\n",
    "df.expiration_date = pd.to_datetime(df.expiration_date,  format='%Y%m%d', errors='ignore')\n",
    "df['expiration_date_year'] = df['expiration_date'].dt.year\n",
    "df['expiration_date_month'] = df['expiration_date'].dt.month\n",
    "df['expiration_date_day'] = df['expiration_date'].dt.day\n"
   ]
  },
  {
   "cell_type": "code",
   "execution_count": 318,
   "metadata": {},
   "outputs": [],
   "source": [
    "#dates to category\n",
    "df['registration_init_time'] = df['registration_init_time'].astype('category')\n",
    "df['expiration_date'] = df['expiration_date'].astype('category')"
   ]
  },
  {
   "cell_type": "code",
   "execution_count": 319,
   "metadata": {},
   "outputs": [],
   "source": [
    "# objects to category\n",
    "for col in df.select_dtypes(include=['object']).columns:\n",
    "    df[col]= df[col].astype('category')"
   ]
  },
  {
   "cell_type": "code",
   "execution_count": 320,
   "metadata": {},
   "outputs": [],
   "source": [
    "#encoding all categorical features\n",
    "for col in df.select_dtypes(include=['category']).columns:\n",
    "    df[col]=df[col].cat.codes"
   ]
  },
  {
   "cell_type": "code",
   "execution_count": 321,
   "metadata": {},
   "outputs": [],
   "source": [
    "df=df.drop(['expiration_date', 'lyricist'], 1)"
   ]
  },
  {
   "cell_type": "code",
   "execution_count": 322,
   "metadata": {},
   "outputs": [
    {
     "data": {
      "text/plain": [
       "Index(['msno', 'song_id', 'source_system_tab', 'source_screen_name',\n",
       "       'source_type', 'target', 'song_length', 'genre_ids', 'artist_name',\n",
       "       'composer', 'language', 'city', 'bd', 'gender', 'registered_via',\n",
       "       'registration_init_time', 'registration_init_time_year',\n",
       "       'registration_init_time_month', 'registration_init_time_day',\n",
       "       'expiration_date_year', 'expiration_date_month', 'expiration_date_day'],\n",
       "      dtype='object')"
      ]
     },
     "execution_count": 322,
     "metadata": {},
     "output_type": "execute_result"
    }
   ],
   "source": [
    "df.columns"
   ]
  },
  {
   "cell_type": "code",
   "execution_count": 323,
   "metadata": {},
   "outputs": [],
   "source": [
    "from sklearn import model_selection, metrics, ensemble\n",
    "from xgboost.sklearn import XGBClassifier"
   ]
  },
  {
   "cell_type": "code",
   "execution_count": 324,
   "metadata": {},
   "outputs": [],
   "source": [
    "#train test split\n",
    "train_data, test_data, train_labels, test_labels = model_selection.train_test_split(df, target, test_size= 0.3)\n",
    "del df"
   ]
  },
  {
   "cell_type": "code",
   "execution_count": 325,
   "metadata": {},
   "outputs": [
    {
     "data": {
      "text/plain": [
       "RandomForestClassifier(bootstrap=True, class_weight=None, criterion='gini',\n",
       "                       max_depth=25, max_features='auto', max_leaf_nodes=None,\n",
       "                       min_impurity_decrease=0.0, min_impurity_split=None,\n",
       "                       min_samples_leaf=1, min_samples_split=2,\n",
       "                       min_weight_fraction_leaf=0.0, n_estimators=250,\n",
       "                       n_jobs=None, oob_score=False, random_state=None,\n",
       "                       verbose=0, warm_start=False)"
      ]
     },
     "execution_count": 325,
     "metadata": {},
     "output_type": "execute_result"
    }
   ],
   "source": [
    "#Random forest\n",
    "model = ensemble.RandomForestClassifier(n_estimators=250, max_depth =25)\n",
    "model.fit(train_data, train_labels)"
   ]
  },
  {
   "cell_type": "code",
   "execution_count": 326,
   "metadata": {},
   "outputs": [
    {
     "name": "stdout",
     "output_type": "stream",
     "text": [
      "0.7016666666666667\n"
     ]
    }
   ],
   "source": [
    "model_pred= model.predict(test_data)\n",
    "print(metrics.accuracy_score(test_labels, model_pred))"
   ]
  },
  {
   "cell_type": "code",
   "execution_count": 327,
   "metadata": {},
   "outputs": [
    {
     "data": {
      "text/plain": [
       "XGBClassifier(base_score=0.5, booster='gbtree', colsample_bylevel=1,\n",
       "              colsample_bynode=1, colsample_bytree=1, gamma=0,\n",
       "              learning_rate=0.1, max_delta_step=0, max_depth=15,\n",
       "              min_child_weight=5, missing=None, n_estimators=250, n_jobs=1,\n",
       "              nthread=None, objective='binary:logistic', random_state=0,\n",
       "              reg_alpha=0, reg_lambda=1, scale_pos_weight=1, seed=None,\n",
       "              silent=None, subsample=1, verbosity=1)"
      ]
     },
     "execution_count": 327,
     "metadata": {},
     "output_type": "execute_result"
    }
   ],
   "source": [
    "# XG boost\n",
    "model1= XGBClassifier(learning_rate=0.1, max_depth= 15, min_child_weight=5,n_estimators= 250)\n",
    "model1.fit(train_data, train_labels)"
   ]
  },
  {
   "cell_type": "code",
   "execution_count": 328,
   "metadata": {},
   "outputs": [
    {
     "name": "stdout",
     "output_type": "stream",
     "text": [
      "0.6933333333333334\n"
     ]
    }
   ],
   "source": [
    "model1_pred= model1.predict(test_data)\n",
    "print(metrics.accuracy_score(test_labels, model1_pred))"
   ]
  },
  {
   "cell_type": "code",
   "execution_count": 286,
   "metadata": {},
   "outputs": [],
   "source": [
    "# Random forest 72.33\n",
    "# XG boost 72.16"
   ]
  },
  {
   "cell_type": "code",
   "execution_count": null,
   "metadata": {},
   "outputs": [],
   "source": []
  }
 ],
 "metadata": {
  "kernelspec": {
   "display_name": "Python 3",
   "language": "python",
   "name": "python3"
  },
  "language_info": {
   "codemirror_mode": {
    "name": "ipython",
    "version": 3
   },
   "file_extension": ".py",
   "mimetype": "text/x-python",
   "name": "python",
   "nbconvert_exporter": "python",
   "pygments_lexer": "ipython3",
   "version": "3.7.4"
  }
 },
 "nbformat": 4,
 "nbformat_minor": 2
}
